{
  "nbformat": 4,
  "nbformat_minor": 0,
  "metadata": {
    "colab": {
      "name": "Surprise - Netflix Recommendation System .ipynb",
      "version": "0.3.2",
      "provenance": [],
      "collapsed_sections": [
        "lcucnU8xyOHg",
        "I7rxFXMQm6sW",
        "iSBuiR-0xOSX",
        "G_3yjHAJyLNE",
        "4DqlAM4ZzYWu",
        "OykVFHVyC_aZ"
      ],
      "include_colab_link": true
    },
    "kernelspec": {
      "name": "python3",
      "display_name": "Python 3"
    }
  },
  "cells": [
    {
      "cell_type": "markdown",
      "metadata": {
        "id": "view-in-github",
        "colab_type": "text"
      },
      "source": [
        "<a href=\"https://colab.research.google.com/github/carakhan15/doing-things/blob/master/Surprise_Netflix_Recommendation_System_.ipynb\" target=\"_parent\"><img src=\"https://colab.research.google.com/assets/colab-badge.svg\" alt=\"Open In Colab\"/></a>"
      ]
    },
    {
      "metadata": {
        "id": "lcucnU8xyOHg",
        "colab_type": "text"
      },
      "cell_type": "markdown",
      "source": [
        "## Ingest"
      ]
    },
    {
      "metadata": {
        "id": "I7rxFXMQm6sW",
        "colab_type": "text"
      },
      "cell_type": "markdown",
      "source": [
        "### Mount GDrive"
      ]
    },
    {
      "metadata": {
        "id": "uQ4Ae-_ikzxD",
        "colab_type": "code",
        "outputId": "3d0c9982-a715-4b74-e1f2-a528b8421344",
        "colab": {
          "base_uri": "https://localhost:8080/",
          "height": 34
        }
      },
      "cell_type": "code",
      "source": [
        "from google.colab import drive\n",
        "drive.mount('/content/gdrive')"
      ],
      "execution_count": 0,
      "outputs": [
        {
          "output_type": "stream",
          "text": [
            "Drive already mounted at /content/gdrive; to attempt to forcibly remount, call drive.mount(\"/content/gdrive\", force_remount=True).\n"
          ],
          "name": "stdout"
        }
      ]
    },
    {
      "metadata": {
        "id": "xH5Ln4y8nBe4",
        "colab_type": "text"
      },
      "cell_type": "markdown",
      "source": [
        "Listing Files"
      ]
    },
    {
      "metadata": {
        "id": "Y7ERCIagm2GJ",
        "colab_type": "code",
        "outputId": "cd84a2e2-d1c3-43e2-9d5d-51f548d050c6",
        "colab": {
          "base_uri": "https://localhost:8080/",
          "height": 194
        }
      },
      "cell_type": "code",
      "source": [
        "import os;os.listdir(\"/content/gdrive/My Drive/ML\")"
      ],
      "execution_count": 0,
      "outputs": [
        {
          "output_type": "execute_result",
          "data": {
            "text/plain": [
              "['hi.gdoc',\n",
              " 'kaggle.json',\n",
              " 'wine.csv',\n",
              " 'house-prices-advanced-regression-techniques',\n",
              " 'County_time_series.csv',\n",
              " 'City_time_series.csv',\n",
              " 'combined_data_1.txt.zip',\n",
              " 'combined_data_1.txt.zip (Unzipped Files)',\n",
              " 'Archive.zip',\n",
              " 'HW7']"
            ]
          },
          "metadata": {
            "tags": []
          },
          "execution_count": 1
        }
      ]
    },
    {
      "metadata": {
        "id": "H3xOaFMgvltz",
        "colab_type": "code",
        "outputId": "a82aa65a-1e83-4f16-8ea4-ecb8d7ca5159",
        "colab": {
          "base_uri": "https://localhost:8080/",
          "height": 212
        }
      },
      "cell_type": "code",
      "source": [
        "!pip install kaggle"
      ],
      "execution_count": 0,
      "outputs": [
        {
          "output_type": "stream",
          "text": [
            "Requirement already satisfied: kaggle in /usr/local/lib/python3.6/dist-packages (1.5.3)\n",
            "Requirement already satisfied: requests in /usr/local/lib/python3.6/dist-packages (from kaggle) (2.18.4)\n",
            "Requirement already satisfied: tqdm in /usr/local/lib/python3.6/dist-packages (from kaggle) (4.28.1)\n",
            "Requirement already satisfied: urllib3<1.25,>=1.21.1 in /usr/local/lib/python3.6/dist-packages (from kaggle) (1.22)\n",
            "Requirement already satisfied: python-slugify in /usr/local/lib/python3.6/dist-packages (from kaggle) (2.0.1)\n",
            "Requirement already satisfied: python-dateutil in /usr/local/lib/python3.6/dist-packages (from kaggle) (2.5.3)\n",
            "Requirement already satisfied: six>=1.10 in /usr/local/lib/python3.6/dist-packages (from kaggle) (1.11.0)\n",
            "Requirement already satisfied: certifi in /usr/local/lib/python3.6/dist-packages (from kaggle) (2018.11.29)\n",
            "Requirement already satisfied: chardet<3.1.0,>=3.0.2 in /usr/local/lib/python3.6/dist-packages (from requests->kaggle) (3.0.4)\n",
            "Requirement already satisfied: idna<2.7,>=2.5 in /usr/local/lib/python3.6/dist-packages (from requests->kaggle) (2.6)\n",
            "Requirement already satisfied: Unidecode>=0.04.16 in /usr/local/lib/python3.6/dist-packages (from python-slugify->kaggle) (1.0.23)\n"
          ],
          "name": "stdout"
        }
      ]
    },
    {
      "metadata": {
        "id": "LKTNO7JCvpZ4",
        "colab_type": "code",
        "colab": {}
      },
      "cell_type": "code",
      "source": [
        "!pip install -U -q kaggle\n",
        "!mkdir -p ~/.kaggle\n",
        "!cp /content/gdrive/My\\ Drive/ML/kaggle.json ~/.kaggle/kaggle.json"
      ],
      "execution_count": 0,
      "outputs": []
    },
    {
      "metadata": {
        "id": "3nPEfWDqw9Ve",
        "colab_type": "text"
      },
      "cell_type": "markdown",
      "source": [
        "Metadata"
      ]
    },
    {
      "metadata": {
        "id": "UNHbla-SvvEg",
        "colab_type": "code",
        "outputId": "27e76bea-e5f6-4ec1-b9e1-6b82b8ad8131",
        "colab": {
          "base_uri": "https://localhost:8080/",
          "height": 245
        }
      },
      "cell_type": "code",
      "source": [
        "import pandas as pd\n",
        "#!kaggle datasets download -d netflix-inc/netflix-prize-data\n",
        "#!ls -l /content\n",
        "movie_metadata=pd.read_csv(\"movie_metadata.csv\", low_memory=False)[['original_title', 'overview', 'vote_count']].set_index('original_title').dropna()\n",
        "# Remove the long tail of rarly rated moves\n",
        "movie_metadata = movie_metadata[movie_metadata['vote_count']>10].drop('vote_count', axis=1)\n",
        "\n",
        "print('Shape Movie-Metadata:\\t{}'.format(movie_metadata.shape))\n",
        "movie_metadata.sample(5)\n"
      ],
      "execution_count": 0,
      "outputs": [
        {
          "output_type": "stream",
          "text": [
            "Shape Movie-Metadata:\t(21604, 1)\n"
          ],
          "name": "stdout"
        },
        {
          "output_type": "execute_result",
          "data": {
            "text/html": [
              "<div>\n",
              "<style scoped>\n",
              "    .dataframe tbody tr th:only-of-type {\n",
              "        vertical-align: middle;\n",
              "    }\n",
              "\n",
              "    .dataframe tbody tr th {\n",
              "        vertical-align: top;\n",
              "    }\n",
              "\n",
              "    .dataframe thead th {\n",
              "        text-align: right;\n",
              "    }\n",
              "</style>\n",
              "<table border=\"1\" class=\"dataframe\">\n",
              "  <thead>\n",
              "    <tr style=\"text-align: right;\">\n",
              "      <th></th>\n",
              "      <th>overview</th>\n",
              "    </tr>\n",
              "    <tr>\n",
              "      <th>original_title</th>\n",
              "      <th></th>\n",
              "    </tr>\n",
              "  </thead>\n",
              "  <tbody>\n",
              "    <tr>\n",
              "      <th>Vernon, Florida</th>\n",
              "      <td>Early Errol Morris documentary intersplices ra...</td>\n",
              "    </tr>\n",
              "    <tr>\n",
              "      <th>Άλπεις</th>\n",
              "      <td>A nurse, a paramedic, a gymnast and her coach ...</td>\n",
              "    </tr>\n",
              "    <tr>\n",
              "      <th>笑拳怪招</th>\n",
              "      <td>Jackie Chan is a youngster, living in a remote...</td>\n",
              "    </tr>\n",
              "    <tr>\n",
              "      <th>Mere Brother Ki Dulhan</th>\n",
              "      <td>London-based Luv Agnihotri decides to end his ...</td>\n",
              "    </tr>\n",
              "    <tr>\n",
              "      <th>Life as a House</th>\n",
              "      <td>When a man is diagnosed with terminal cancer, ...</td>\n",
              "    </tr>\n",
              "  </tbody>\n",
              "</table>\n",
              "</div>"
            ],
            "text/plain": [
              "                                                                 overview\n",
              "original_title                                                           \n",
              "Vernon, Florida         Early Errol Morris documentary intersplices ra...\n",
              "Άλπεις                  A nurse, a paramedic, a gymnast and her coach ...\n",
              "笑拳怪招                    Jackie Chan is a youngster, living in a remote...\n",
              "Mere Brother Ki Dulhan  London-based Luv Agnihotri decides to end his ...\n",
              "Life as a House         When a man is diagnosed with terminal cancer, ..."
            ]
          },
          "metadata": {
            "tags": []
          },
          "execution_count": 5
        }
      ]
    },
    {
      "metadata": {
        "id": "iSBuiR-0xOSX",
        "colab_type": "text"
      },
      "cell_type": "markdown",
      "source": [
        "### Training Data"
      ]
    },
    {
      "metadata": {
        "id": "5Z0d3C5LnDAd",
        "colab_type": "code",
        "outputId": "3d43760c-6e50-4a3d-bb82-19fef2c39d1e",
        "colab": {
          "base_uri": "https://localhost:8080/",
          "height": 52
        }
      },
      "cell_type": "code",
      "source": [
        "!unzip /content/gdrive/'My Drive'/ML/'combined_data_1.txt.zip'"
      ],
      "execution_count": 0,
      "outputs": [
        {
          "output_type": "stream",
          "text": [
            "Archive:  /content/gdrive/My Drive/ML/combined_data_1.txt.zip\n",
            "replace combined_data_1.txt? [y]es, [n]o, [A]ll, [N]one, [r]ename: "
          ],
          "name": "stdout"
        }
      ]
    },
    {
      "metadata": {
        "id": "E85_-y0tndLH",
        "colab_type": "code",
        "colab": {}
      },
      "cell_type": "code",
      "source": [
        "import pandas as pd\n",
        "df_raw = pd.read_csv('../content/combined_data_1.txt', header=None, names=['User', 'Rating', 'Date'], usecols=[0, 1, 2])"
      ],
      "execution_count": 0,
      "outputs": []
    },
    {
      "metadata": {
        "id": "5LLqcdrsn90A",
        "colab_type": "code",
        "outputId": "8f8e8f02-dc89-4f38-fd7f-b40961433fb3",
        "colab": {
          "base_uri": "https://localhost:8080/",
          "height": 137
        }
      },
      "cell_type": "code",
      "source": [
        "df_raw.head(3)"
      ],
      "execution_count": 0,
      "outputs": [
        {
          "output_type": "execute_result",
          "data": {
            "text/html": [
              "<div>\n",
              "<style scoped>\n",
              "    .dataframe tbody tr th:only-of-type {\n",
              "        vertical-align: middle;\n",
              "    }\n",
              "\n",
              "    .dataframe tbody tr th {\n",
              "        vertical-align: top;\n",
              "    }\n",
              "\n",
              "    .dataframe thead th {\n",
              "        text-align: right;\n",
              "    }\n",
              "</style>\n",
              "<table border=\"1\" class=\"dataframe\">\n",
              "  <thead>\n",
              "    <tr style=\"text-align: right;\">\n",
              "      <th></th>\n",
              "      <th>User</th>\n",
              "      <th>Rating</th>\n",
              "      <th>Date</th>\n",
              "    </tr>\n",
              "  </thead>\n",
              "  <tbody>\n",
              "    <tr>\n",
              "      <th>0</th>\n",
              "      <td>1:</td>\n",
              "      <td>NaN</td>\n",
              "      <td>NaN</td>\n",
              "    </tr>\n",
              "    <tr>\n",
              "      <th>1</th>\n",
              "      <td>1488844</td>\n",
              "      <td>3.0</td>\n",
              "      <td>2005-09-06</td>\n",
              "    </tr>\n",
              "    <tr>\n",
              "      <th>2</th>\n",
              "      <td>822109</td>\n",
              "      <td>5.0</td>\n",
              "      <td>2005-05-13</td>\n",
              "    </tr>\n",
              "  </tbody>\n",
              "</table>\n",
              "</div>"
            ],
            "text/plain": [
              "      User  Rating        Date\n",
              "0       1:     NaN         NaN\n",
              "1  1488844     3.0  2005-09-06\n",
              "2   822109     5.0  2005-05-13"
            ]
          },
          "metadata": {
            "tags": []
          },
          "execution_count": 7
        }
      ]
    },
    {
      "metadata": {
        "id": "zWFCyNP7oNub",
        "colab_type": "text"
      },
      "cell_type": "markdown",
      "source": [
        "#### Load Movie Titles"
      ]
    },
    {
      "metadata": {
        "id": "Qa3ZwN-no9pT",
        "colab_type": "code",
        "colab": {}
      },
      "cell_type": "code",
      "source": [
        "!ls -l /content/gdrive/My\\ Drive/__MACOSX/"
      ],
      "execution_count": 0,
      "outputs": []
    },
    {
      "metadata": {
        "id": "v28Y8PgmuSYC",
        "colab_type": "code",
        "colab": {}
      },
      "cell_type": "code",
      "source": [
        "  !unzip /content/gdrive/'My Drive'/ML/'Archive.zip'"
      ],
      "execution_count": 0,
      "outputs": []
    },
    {
      "metadata": {
        "id": "DLeQPcGZw5uC",
        "colab_type": "text"
      },
      "cell_type": "markdown",
      "source": [
        "Movie Titles"
      ]
    },
    {
      "metadata": {
        "id": "F468EGgbsgFk",
        "colab_type": "code",
        "outputId": "ec79f180-4f18-43bb-b92e-6398c9ee1e4c",
        "colab": {
          "base_uri": "https://localhost:8080/",
          "height": 245
        }
      },
      "cell_type": "code",
      "source": [
        "movie_titles = pd.read_csv(\"movie_title_s.csv\",  \n",
        "                           encoding = 'ISO-8859-1', \n",
        "                           header = None, \n",
        "                           names = ['Id', 'Year', 'Name']).set_index('Id')\n",
        "print('Shape Movie-Titles:\\t{}'.format(movie_titles.shape))\n",
        "movie_titles.sample(5)"
      ],
      "execution_count": 0,
      "outputs": [
        {
          "output_type": "stream",
          "text": [
            "Shape Movie-Titles:\t(17770, 2)\n"
          ],
          "name": "stdout"
        },
        {
          "output_type": "execute_result",
          "data": {
            "text/html": [
              "<div>\n",
              "<style scoped>\n",
              "    .dataframe tbody tr th:only-of-type {\n",
              "        vertical-align: middle;\n",
              "    }\n",
              "\n",
              "    .dataframe tbody tr th {\n",
              "        vertical-align: top;\n",
              "    }\n",
              "\n",
              "    .dataframe thead th {\n",
              "        text-align: right;\n",
              "    }\n",
              "</style>\n",
              "<table border=\"1\" class=\"dataframe\">\n",
              "  <thead>\n",
              "    <tr style=\"text-align: right;\">\n",
              "      <th></th>\n",
              "      <th>Year</th>\n",
              "      <th>Name</th>\n",
              "    </tr>\n",
              "    <tr>\n",
              "      <th>Id</th>\n",
              "      <th></th>\n",
              "      <th></th>\n",
              "    </tr>\n",
              "  </thead>\n",
              "  <tbody>\n",
              "    <tr>\n",
              "      <th>10575</th>\n",
              "      <td>1962.0</td>\n",
              "      <td>The Twilight Zone: Vol. 6</td>\n",
              "    </tr>\n",
              "    <tr>\n",
              "      <th>952</th>\n",
              "      <td>1940.0</td>\n",
              "      <td>My Favorite Wife</td>\n",
              "    </tr>\n",
              "    <tr>\n",
              "      <th>2</th>\n",
              "      <td>2004.0</td>\n",
              "      <td>Isle of Man TT 2004 Review</td>\n",
              "    </tr>\n",
              "    <tr>\n",
              "      <th>17643</th>\n",
              "      <td>1984.0</td>\n",
              "      <td>Supergirl</td>\n",
              "    </tr>\n",
              "    <tr>\n",
              "      <th>7509</th>\n",
              "      <td>2002.0</td>\n",
              "      <td>Die Another Day</td>\n",
              "    </tr>\n",
              "  </tbody>\n",
              "</table>\n",
              "</div>"
            ],
            "text/plain": [
              "         Year                        Name\n",
              "Id                                       \n",
              "10575  1962.0   The Twilight Zone: Vol. 6\n",
              "952    1940.0            My Favorite Wife\n",
              "2      2004.0  Isle of Man TT 2004 Review\n",
              "17643  1984.0                   Supergirl\n",
              "7509   2002.0             Die Another Day"
            ]
          },
          "metadata": {
            "tags": []
          },
          "execution_count": 3
        }
      ]
    },
    {
      "metadata": {
        "id": "V-xWYjmqxyQ0",
        "colab_type": "text"
      },
      "cell_type": "markdown",
      "source": [
        "#### Preprocessing"
      ]
    },
    {
      "metadata": {
        "id": "FiekzeKaxz9p",
        "colab_type": "code",
        "outputId": "68f2e32a-eec3-438b-c5bb-dddae4a6ea93",
        "colab": {
          "base_uri": "https://localhost:8080/",
          "height": 215
        }
      },
      "cell_type": "code",
      "source": [
        "from collections import deque\n",
        "\n",
        "tmp_movies = df_raw[df_raw['Rating'].isna()]['User'].reset_index()\n",
        "movie_indices = [[index, int(movie[:-1])] for index, movie in tmp_movies.values]\n",
        "\n",
        "# Shift the movie_indices by one to get start and endpoints of all movies\n",
        "shifted_movie_indices = deque(movie_indices)\n",
        "shifted_movie_indices.rotate(-1)\n",
        "\n",
        "\n",
        "# Gather all dataframes\n",
        "user_data = []\n",
        "\n",
        "# Iterate over all movies\n",
        "for [df_id_1, movie_id], [df_id_2, next_movie_id] in zip(movie_indices, shifted_movie_indices):\n",
        "    \n",
        "    # Check if it is the last movie in the file\n",
        "    if df_id_1<df_id_2:\n",
        "        tmp_df = df_raw.loc[df_id_1+1:df_id_2-1].copy()\n",
        "    else:\n",
        "        tmp_df = df_raw.loc[df_id_1+1:].copy()\n",
        "        \n",
        "    # Create movie_id column\n",
        "    tmp_df['Movie'] = movie_id\n",
        "    \n",
        "    # Append dataframe to list\n",
        "    user_data.append(tmp_df)\n",
        "\n",
        "# Combine all dataframes\n",
        "df_main = pd.concat(user_data)\n",
        "del user_data, df_raw, tmp_movies, tmp_df, shifted_movie_indices, movie_indices, df_id_1, movie_id, df_id_2, next_movie_id\n",
        "print('Shape User-Ratings:\\t{}'.format(df_main.shape))\n",
        "df_main.sample(5)"
      ],
      "execution_count": 0,
      "outputs": [
        {
          "output_type": "stream",
          "text": [
            "Shape User-Ratings:\t(24053764, 4)\n"
          ],
          "name": "stdout"
        },
        {
          "output_type": "execute_result",
          "data": {
            "text/html": [
              "<div>\n",
              "<style scoped>\n",
              "    .dataframe tbody tr th:only-of-type {\n",
              "        vertical-align: middle;\n",
              "    }\n",
              "\n",
              "    .dataframe tbody tr th {\n",
              "        vertical-align: top;\n",
              "    }\n",
              "\n",
              "    .dataframe thead th {\n",
              "        text-align: right;\n",
              "    }\n",
              "</style>\n",
              "<table border=\"1\" class=\"dataframe\">\n",
              "  <thead>\n",
              "    <tr style=\"text-align: right;\">\n",
              "      <th></th>\n",
              "      <th>User</th>\n",
              "      <th>Rating</th>\n",
              "      <th>Date</th>\n",
              "      <th>Movie</th>\n",
              "    </tr>\n",
              "  </thead>\n",
              "  <tbody>\n",
              "    <tr>\n",
              "      <th>23776684</th>\n",
              "      <td>2463504</td>\n",
              "      <td>4.0</td>\n",
              "      <td>2005-01-03</td>\n",
              "      <td>4432</td>\n",
              "    </tr>\n",
              "    <tr>\n",
              "      <th>8668240</th>\n",
              "      <td>1540611</td>\n",
              "      <td>4.0</td>\n",
              "      <td>2004-02-29</td>\n",
              "      <td>1728</td>\n",
              "    </tr>\n",
              "    <tr>\n",
              "      <th>1994211</th>\n",
              "      <td>999532</td>\n",
              "      <td>5.0</td>\n",
              "      <td>2005-05-02</td>\n",
              "      <td>361</td>\n",
              "    </tr>\n",
              "    <tr>\n",
              "      <th>13752173</th>\n",
              "      <td>2051278</td>\n",
              "      <td>5.0</td>\n",
              "      <td>2005-02-11</td>\n",
              "      <td>2617</td>\n",
              "    </tr>\n",
              "    <tr>\n",
              "      <th>10520727</th>\n",
              "      <td>1102433</td>\n",
              "      <td>5.0</td>\n",
              "      <td>2005-03-12</td>\n",
              "      <td>2045</td>\n",
              "    </tr>\n",
              "  </tbody>\n",
              "</table>\n",
              "</div>"
            ],
            "text/plain": [
              "             User  Rating        Date  Movie\n",
              "23776684  2463504     4.0  2005-01-03   4432\n",
              "8668240   1540611     4.0  2004-02-29   1728\n",
              "1994211    999532     5.0  2005-05-02    361\n",
              "13752173  2051278     5.0  2005-02-11   2617\n",
              "10520727  1102433     5.0  2005-03-12   2045"
            ]
          },
          "metadata": {
            "tags": []
          },
          "execution_count": 4
        }
      ]
    },
    {
      "metadata": {
        "id": "B-I2s8h59ciL",
        "colab_type": "code",
        "outputId": "3ab6f8fb-184e-40e8-cf0f-b77acd978c8f",
        "colab": {
          "base_uri": "https://localhost:8080/",
          "height": 197
        }
      },
      "cell_type": "code",
      "source": [
        "df_main.sample(5)"
      ],
      "execution_count": 0,
      "outputs": [
        {
          "output_type": "execute_result",
          "data": {
            "text/html": [
              "<div>\n",
              "<style scoped>\n",
              "    .dataframe tbody tr th:only-of-type {\n",
              "        vertical-align: middle;\n",
              "    }\n",
              "\n",
              "    .dataframe tbody tr th {\n",
              "        vertical-align: top;\n",
              "    }\n",
              "\n",
              "    .dataframe thead th {\n",
              "        text-align: right;\n",
              "    }\n",
              "</style>\n",
              "<table border=\"1\" class=\"dataframe\">\n",
              "  <thead>\n",
              "    <tr style=\"text-align: right;\">\n",
              "      <th></th>\n",
              "      <th>User</th>\n",
              "      <th>Rating</th>\n",
              "      <th>Date</th>\n",
              "      <th>Movie</th>\n",
              "    </tr>\n",
              "  </thead>\n",
              "  <tbody>\n",
              "    <tr>\n",
              "      <th>1156776</th>\n",
              "      <td>2331185</td>\n",
              "      <td>1.0</td>\n",
              "      <td>2005-10-12</td>\n",
              "      <td>267</td>\n",
              "    </tr>\n",
              "    <tr>\n",
              "      <th>4660266</th>\n",
              "      <td>2306038</td>\n",
              "      <td>4.0</td>\n",
              "      <td>2004-12-08</td>\n",
              "      <td>907</td>\n",
              "    </tr>\n",
              "    <tr>\n",
              "      <th>16998824</th>\n",
              "      <td>1270817</td>\n",
              "      <td>4.0</td>\n",
              "      <td>2005-04-29</td>\n",
              "      <td>3282</td>\n",
              "    </tr>\n",
              "    <tr>\n",
              "      <th>18139151</th>\n",
              "      <td>1181168</td>\n",
              "      <td>5.0</td>\n",
              "      <td>2005-09-25</td>\n",
              "      <td>3446</td>\n",
              "    </tr>\n",
              "    <tr>\n",
              "      <th>19469657</th>\n",
              "      <td>1789629</td>\n",
              "      <td>5.0</td>\n",
              "      <td>2005-04-23</td>\n",
              "      <td>3713</td>\n",
              "    </tr>\n",
              "  </tbody>\n",
              "</table>\n",
              "</div>"
            ],
            "text/plain": [
              "             User  Rating        Date  Movie\n",
              "1156776   2331185     1.0  2005-10-12    267\n",
              "4660266   2306038     4.0  2004-12-08    907\n",
              "16998824  1270817     4.0  2005-04-29   3282\n",
              "18139151  1181168     5.0  2005-09-25   3446\n",
              "19469657  1789629     5.0  2005-04-23   3713"
            ]
          },
          "metadata": {
            "tags": []
          },
          "execution_count": 11
        }
      ]
    },
    {
      "metadata": {
        "id": "vmdtnjfc8sbJ",
        "colab_type": "code",
        "colab": {}
      },
      "cell_type": "code",
      "source": [
        "df = df_main.sample(100000)"
      ],
      "execution_count": 0,
      "outputs": []
    },
    {
      "metadata": {
        "id": "seFrubcC9IJD",
        "colab_type": "code",
        "outputId": "4f6be1e9-bb22-40bc-83b1-0ce545bd3900",
        "colab": {
          "base_uri": "https://localhost:8080/",
          "height": 197
        }
      },
      "cell_type": "code",
      "source": [
        "df.head()"
      ],
      "execution_count": 0,
      "outputs": [
        {
          "output_type": "execute_result",
          "data": {
            "text/html": [
              "<div>\n",
              "<style scoped>\n",
              "    .dataframe tbody tr th:only-of-type {\n",
              "        vertical-align: middle;\n",
              "    }\n",
              "\n",
              "    .dataframe tbody tr th {\n",
              "        vertical-align: top;\n",
              "    }\n",
              "\n",
              "    .dataframe thead th {\n",
              "        text-align: right;\n",
              "    }\n",
              "</style>\n",
              "<table border=\"1\" class=\"dataframe\">\n",
              "  <thead>\n",
              "    <tr style=\"text-align: right;\">\n",
              "      <th></th>\n",
              "      <th>User</th>\n",
              "      <th>Rating</th>\n",
              "      <th>Date</th>\n",
              "      <th>Movie</th>\n",
              "    </tr>\n",
              "  </thead>\n",
              "  <tbody>\n",
              "    <tr>\n",
              "      <th>3185670</th>\n",
              "      <td>858799</td>\n",
              "      <td>1.0</td>\n",
              "      <td>2004-01-28</td>\n",
              "      <td>582</td>\n",
              "    </tr>\n",
              "    <tr>\n",
              "      <th>12496851</th>\n",
              "      <td>671728</td>\n",
              "      <td>3.0</td>\n",
              "      <td>2005-09-23</td>\n",
              "      <td>2391</td>\n",
              "    </tr>\n",
              "    <tr>\n",
              "      <th>14678696</th>\n",
              "      <td>2555688</td>\n",
              "      <td>5.0</td>\n",
              "      <td>2005-04-30</td>\n",
              "      <td>2831</td>\n",
              "    </tr>\n",
              "    <tr>\n",
              "      <th>9066718</th>\n",
              "      <td>1081461</td>\n",
              "      <td>4.0</td>\n",
              "      <td>2003-07-08</td>\n",
              "      <td>1798</td>\n",
              "    </tr>\n",
              "    <tr>\n",
              "      <th>7979427</th>\n",
              "      <td>1631810</td>\n",
              "      <td>5.0</td>\n",
              "      <td>2005-10-15</td>\n",
              "      <td>1595</td>\n",
              "    </tr>\n",
              "  </tbody>\n",
              "</table>\n",
              "</div>"
            ],
            "text/plain": [
              "             User  Rating        Date  Movie\n",
              "3185670    858799     1.0  2004-01-28    582\n",
              "12496851   671728     3.0  2005-09-23   2391\n",
              "14678696  2555688     5.0  2005-04-30   2831\n",
              "9066718   1081461     4.0  2003-07-08   1798\n",
              "7979427   1631810     5.0  2005-10-15   1595"
            ]
          },
          "metadata": {
            "tags": []
          },
          "execution_count": 13
        }
      ]
    },
    {
      "metadata": {
        "id": "G_3yjHAJyLNE",
        "colab_type": "text"
      },
      "cell_type": "markdown",
      "source": [
        "## EDA"
      ]
    },
    {
      "metadata": {
        "id": "1e1X4jKcyW5X",
        "colab_type": "code",
        "outputId": "656476ac-7c86-411c-edac-22a1e785781f",
        "colab": {
          "base_uri": "https://localhost:8080/",
          "height": 16
        }
      },
      "cell_type": "code",
      "source": [
        "import pandas as pd\n",
        "\n",
        "# To do linear algebra\n",
        "import numpy as np\n",
        "\n",
        "# To create plots\n",
        "import matplotlib.pyplot as plt\n",
        "\n",
        "# To create interactive plots\n",
        "from plotly.offline import init_notebook_mode, plot, iplot\n",
        "import plotly.graph_objs as go\n",
        "init_notebook_mode(connected=True)\n"
      ],
      "execution_count": 0,
      "outputs": [
        {
          "output_type": "display_data",
          "data": {
            "text/vnd.plotly.v1+html": "<script type=\"text/javascript\">window.PlotlyConfig = {MathJaxConfig: 'local'};</script><script type=\"text/javascript\">if (window.MathJax) {MathJax.Hub.Config({SVG: {font: \"STIX-Web\"}});}</script><script>requirejs.config({paths: { 'plotly': ['https://cdn.plot.ly/plotly-latest.min']},});if(!window._Plotly) {require(['plotly'],function(plotly) {window._Plotly=plotly;});}</script>",
            "text/html": [
              "<script type=\"text/javascript\">window.PlotlyConfig = {MathJaxConfig: 'local'};</script><script type=\"text/javascript\">if (window.MathJax) {MathJax.Hub.Config({SVG: {font: \"STIX-Web\"}});}</script><script>requirejs.config({paths: { 'plotly': ['https://cdn.plot.ly/plotly-latest.min']},});if(!window._Plotly) {require(['plotly'],function(plotly) {window._Plotly=plotly;});}</script>"
            ]
          },
          "metadata": {
            "tags": []
          }
        }
      ]
    },
    {
      "metadata": {
        "id": "4DqlAM4ZzYWu",
        "colab_type": "text"
      },
      "cell_type": "markdown",
      "source": [
        "## Surprise!"
      ]
    },
    {
      "metadata": {
        "id": "AmV-UqmPz2uT",
        "colab_type": "code",
        "colab": {}
      },
      "cell_type": "code",
      "source": [
        "!pip install -q surprise"
      ],
      "execution_count": 0,
      "outputs": []
    },
    {
      "metadata": {
        "id": "WxHwDOyQzO-O",
        "colab_type": "code",
        "colab": {}
      },
      "cell_type": "code",
      "source": [
        "from __future__ import (absolute_import, division, print_function,\n",
        "                        unicode_literals)\n",
        "import time\n",
        "import datetime\n",
        "import random\n",
        "\n",
        "import numpy as np\n",
        "import six\n",
        "from tabulate import tabulate\n",
        "\n",
        "from surprise import Dataset\n",
        "from surprise.model_selection import cross_validate\n",
        "from surprise.model_selection import KFold\n",
        "from surprise import NormalPredictor\n",
        "from surprise import BaselineOnly\n",
        "from surprise import KNNBasic\n",
        "from surprise import KNNWithMeans\n",
        "from surprise import KNNBaseline\n",
        "from surprise import SVD\n",
        "from surprise import SVDpp\n",
        "from surprise import NMF\n",
        "from surprise import SlopeOne\n",
        "from surprise import CoClustering\n",
        "\n",
        "# The algorithms to cross-validate\n",
        "classes = (SVD, SVDpp, NMF, SlopeOne, KNNBasic, KNNWithMeans, KNNBaseline,\n",
        "           CoClustering, BaselineOnly, NormalPredictor)\n",
        "\n",
        "# ugly dict to map algo names and datasets to their markdown links in the table\n",
        "stable = 'http://surprise.readthedocs.io/en/stable/'\n",
        "LINK = {'SVD': '[{}]({})'.format('SVD',\n",
        "                                 stable +\n",
        "                                 'matrix_factorization.html#surprise.prediction_algorithms.matrix_factorization.SVD'),\n",
        "        'SVDpp': '[{}]({})'.format('SVD++',\n",
        "                                   stable +\n",
        "                                   'matrix_factorization.html#surprise.prediction_algorithms.matrix_factorization.SVDpp'),\n",
        "        'NMF': '[{}]({})'.format('NMF',\n",
        "                                 stable +\n",
        "                                 'matrix_factorization.html#surprise.prediction_algorithms.matrix_factorization.NMF'),\n",
        "        'SlopeOne': '[{}]({})'.format('Slope One',\n",
        "                                      stable +\n",
        "                                      'slope_one.html#surprise.prediction_algorithms.slope_one.SlopeOne'),\n",
        "        'KNNBasic': '[{}]({})'.format('k-NN',\n",
        "                                      stable +\n",
        "                                      'knn_inspired.html#surprise.prediction_algorithms.knns.KNNBasic'),\n",
        "        'KNNWithMeans': '[{}]({})'.format('Centered k-NN',\n",
        "                                          stable +\n",
        "                                          'knn_inspired.html#surprise.prediction_algorithms.knns.KNNWithMeans'),\n",
        "        'KNNBaseline': '[{}]({})'.format('k-NN Baseline',\n",
        "                                         stable +\n",
        "                                         'knn_inspired.html#surprise.prediction_algorithms.knns.KNNBaseline'),\n",
        "        'CoClustering': '[{}]({})'.format('Co-Clustering',\n",
        "                                          stable +\n",
        "                                          'co_clustering.html#surprise.prediction_algorithms.co_clustering.CoClustering'),\n",
        "        'BaselineOnly': '[{}]({})'.format('Baseline',\n",
        "                                          stable +\n",
        "                                          'basic_algorithms.html#surprise.prediction_algorithms.baseline_only.BaselineOnly'),\n",
        "        'NormalPredictor': '[{}]({})'.format('Random',\n",
        "                                             stable +\n",
        "                                             'basic_algorithms.html#surprise.prediction_algorithms.random_pred.NormalPredictor'),\n",
        "        'ml-100k': '[{}]({})'.format('Movielens 100k',\n",
        "                                     'http://grouplens.org/datasets/movielens/100k'),\n",
        "        'ml-1m': '[{}]({})'.format('Movielens 1M',\n",
        "                                   'http://grouplens.org/datasets/movielens/1m'),\n",
        "        }\n"
      ],
      "execution_count": 0,
      "outputs": []
    },
    {
      "metadata": {
        "id": "18d_Gu5A0MWw",
        "colab_type": "code",
        "colab": {}
      },
      "cell_type": "code",
      "source": [
        "np.random.seed(0)\n",
        "random.seed(0)"
      ],
      "execution_count": 0,
      "outputs": []
    },
    {
      "metadata": {
        "id": "u-_ghDjk0RnK",
        "colab_type": "code",
        "colab": {}
      },
      "cell_type": "code",
      "source": [
        "from __future__ import (absolute_import, division, print_function,\n",
        "                        unicode_literals)\n",
        "\n",
        "import pandas as pd\n",
        "\n",
        "from surprise import NormalPredictor\n",
        "from surprise import Dataset\n",
        "from surprise.model_selection import cross_validate\n",
        "from surprise import Reader\n",
        "\n",
        "reader = Reader(rating_scale=(1, 5))\n",
        "\n",
        "data = Dataset.load_from_df(df[['User', 'Movie', 'Rating']], reader=reader)"
      ],
      "execution_count": 0,
      "outputs": []
    },
    {
      "metadata": {
        "id": "7wiSHLV2DtOJ",
        "colab_type": "text"
      },
      "cell_type": "markdown",
      "source": [
        "### Testing Models"
      ]
    },
    {
      "metadata": {
        "id": "BAgrkOH7B81q",
        "colab_type": "code",
        "outputId": "d5170a6c-d838-4306-9053-65bd63f8b5ed",
        "colab": {
          "base_uri": "https://localhost:8080/",
          "height": 354
        }
      },
      "cell_type": "code",
      "source": [
        "cross_validate(NormalPredictor(), data, cv=5, verbose=True)"
      ],
      "execution_count": 0,
      "outputs": [
        {
          "output_type": "stream",
          "text": [
            "Evaluating RMSE, MAE of algorithm NormalPredictor on 5 split(s).\n",
            "\n",
            "                  Fold 1  Fold 2  Fold 3  Fold 4  Fold 5  Mean    Std     \n",
            "RMSE (testset)    1.4720  1.4625  1.4702  1.4673  1.4705  1.4685  0.0034  \n",
            "MAE (testset)     1.1831  1.1725  1.1756  1.1735  1.1807  1.1771  0.0041  \n",
            "Fit time          0.16    0.21    0.18    0.18    0.18    0.18    0.01    \n",
            "Test time         0.43    0.41    0.37    0.17    0.17    0.31    0.12    \n"
          ],
          "name": "stdout"
        },
        {
          "output_type": "execute_result",
          "data": {
            "text/plain": [
              "{'fit_time': (0.1645946502685547,\n",
              "  0.20882320404052734,\n",
              "  0.17647075653076172,\n",
              "  0.17935395240783691,\n",
              "  0.17812585830688477),\n",
              " 'test_mae': array([1.18312268, 1.17248056, 1.17560827, 1.17351383, 1.18071899]),\n",
              " 'test_rmse': array([1.47198256, 1.46253836, 1.47023486, 1.46732318, 1.47053337]),\n",
              " 'test_time': (0.43105101585388184,\n",
              "  0.40632128715515137,\n",
              "  0.36931395530700684,\n",
              "  0.1703650951385498,\n",
              "  0.168778657913208)}"
            ]
          },
          "metadata": {
            "tags": []
          },
          "execution_count": 23
        }
      ]
    },
    {
      "metadata": {
        "id": "lb6S4Ru81mRk",
        "colab_type": "code",
        "outputId": "63a364d5-0b88-4fbd-e5a5-7ea7222deb20",
        "colab": {
          "base_uri": "https://localhost:8080/",
          "height": 354
        }
      },
      "cell_type": "code",
      "source": [
        "cross_validate(SVD(), data, cv=5, verbose=True)"
      ],
      "execution_count": 0,
      "outputs": [
        {
          "output_type": "stream",
          "text": [
            "Evaluating RMSE, MAE of algorithm SVD on 5 split(s).\n",
            "\n",
            "                  Fold 1  Fold 2  Fold 3  Fold 4  Fold 5  Mean    Std     \n",
            "RMSE (testset)    1.0181  1.0251  1.0246  1.0234  1.0195  1.0221  0.0028  \n",
            "MAE (testset)     0.8177  0.8226  0.8225  0.8253  0.8140  0.8204  0.0040  \n",
            "Fit time          8.22    6.75    6.75    6.75    6.83    7.06    0.58    \n",
            "Test time         0.38    0.37    0.38    0.17    0.18    0.30    0.10    \n"
          ],
          "name": "stdout"
        },
        {
          "output_type": "execute_result",
          "data": {
            "text/plain": [
              "{'fit_time': (8.22192907333374,\n",
              "  6.7509446144104,\n",
              "  6.749925851821899,\n",
              "  6.751333951950073,\n",
              "  6.834836959838867),\n",
              " 'test_mae': array([0.81773687, 0.82264968, 0.82248861, 0.8252913 , 0.8139703 ]),\n",
              " 'test_rmse': array([1.01809564, 1.02506472, 1.02464407, 1.02339956, 1.01949683]),\n",
              " 'test_time': (0.38004517555236816,\n",
              "  0.37442588806152344,\n",
              "  0.379197359085083,\n",
              "  0.17391657829284668,\n",
              "  0.18249225616455078)}"
            ]
          },
          "metadata": {
            "tags": []
          },
          "execution_count": 22
        }
      ]
    },
    {
      "metadata": {
        "id": "LmP07BmQCGL2",
        "colab_type": "code",
        "outputId": "83c41852-6537-4f8f-d3a9-cc55318e0906",
        "colab": {
          "base_uri": "https://localhost:8080/",
          "height": 354
        }
      },
      "cell_type": "code",
      "source": [
        "cross_validate(SVDpp(), data, cv=5, verbose=True)"
      ],
      "execution_count": 0,
      "outputs": [
        {
          "output_type": "stream",
          "text": [
            "Evaluating RMSE, MAE of algorithm SVDpp on 5 split(s).\n",
            "\n",
            "                  Fold 1  Fold 2  Fold 3  Fold 4  Fold 5  Mean    Std     \n",
            "RMSE (testset)    1.0245  1.0291  1.0335  1.0199  1.0309  1.0276  0.0048  \n",
            "MAE (testset)     0.8315  0.8314  0.8379  0.8275  0.8345  0.8325  0.0035  \n",
            "Fit time          9.62    9.72    9.69    9.69    9.65    9.67    0.03    \n",
            "Test time         0.44    0.24    0.26    0.24    0.24    0.28    0.08    \n"
          ],
          "name": "stdout"
        },
        {
          "output_type": "execute_result",
          "data": {
            "text/plain": [
              "{'fit_time': (9.62392520904541,\n",
              "  9.71738862991333,\n",
              "  9.693756818771362,\n",
              "  9.689836025238037,\n",
              "  9.6489839553833),\n",
              " 'test_mae': array([0.83145277, 0.8313558 , 0.83791351, 0.82747986, 0.83447873]),\n",
              " 'test_rmse': array([1.02450308, 1.02913234, 1.03351589, 1.01986623, 1.03086907]),\n",
              " 'test_time': (0.4440462589263916,\n",
              "  0.23690438270568848,\n",
              "  0.25811314582824707,\n",
              "  0.23817801475524902,\n",
              "  0.23901104927062988)}"
            ]
          },
          "metadata": {
            "tags": []
          },
          "execution_count": 24
        }
      ]
    },
    {
      "metadata": {
        "id": "HAuH27JwDEtk",
        "colab_type": "code",
        "outputId": "6ebddca2-2622-4871-97e2-ccd3d4b05a76",
        "colab": {
          "base_uri": "https://localhost:8080/",
          "height": 52
        }
      },
      "cell_type": "code",
      "source": [
        "cross_validate(KNNBaseline(), data, cv=5, verbose=True)"
      ],
      "execution_count": 0,
      "outputs": [
        {
          "output_type": "stream",
          "text": [
            "Estimating biases using als...\n",
            "Computing the msd similarity matrix...\n"
          ],
          "name": "stdout"
        }
      ]
    },
    {
      "metadata": {
        "id": "OykVFHVyC_aZ",
        "colab_type": "text"
      },
      "cell_type": "markdown",
      "source": [
        "### Manually Splitting Test/Train (Exploration - Not Pursued)"
      ]
    },
    {
      "metadata": {
        "id": "x6VTBPEf_aHX",
        "colab_type": "code",
        "colab": {}
      },
      "cell_type": "code",
      "source": [
        "from surprise.model_selection import train_test_split\n",
        "trainset, testset = train_test_split(data, test_size=.25)"
      ],
      "execution_count": 0,
      "outputs": []
    },
    {
      "metadata": {
        "id": "s4dJ65Ul_fEk",
        "colab_type": "code",
        "outputId": "6ad9f06c-cd96-495b-9d70-c63891dacca0",
        "colab": {
          "base_uri": "https://localhost:8080/",
          "height": 52
        }
      },
      "cell_type": "code",
      "source": [
        "from surprise import accuracy\n",
        "\n",
        "algo = SVD()\n",
        "\n",
        "# Train the algorithm on the trainset, and predict ratings for the testset\n",
        "algo.fit(trainset)\n",
        "predictions = algo.test(testset)\n",
        "\n",
        "# Then compute RMSE\n",
        "accuracy.rmse(predictions)"
      ],
      "execution_count": 0,
      "outputs": [
        {
          "output_type": "stream",
          "text": [
            "RMSE: 1.0236\n"
          ],
          "name": "stdout"
        },
        {
          "output_type": "execute_result",
          "data": {
            "text/plain": [
              "1.023587023218731"
            ]
          },
          "metadata": {
            "tags": []
          },
          "execution_count": 21
        }
      ]
    },
    {
      "metadata": {
        "id": "s4QCmIx5Ac6h",
        "colab_type": "code",
        "outputId": "ab21405b-34e8-4251-ed85-e9f98ac2408b",
        "colab": {
          "base_uri": "https://localhost:8080/",
          "height": 34
        }
      },
      "cell_type": "code",
      "source": [
        "from surprise import KNNBasic\n",
        "from surprise import Dataset\n",
        "\n",
        "# Retrieve the trainset.\n",
        "trainset = data.build_full_trainset()\n",
        "\n",
        "# Build an algorithm, and train it.\n",
        "algo = KNNBasic()\n",
        "algo.fit(trainset)"
      ],
      "execution_count": 0,
      "outputs": [
        {
          "output_type": "stream",
          "text": [
            "Computing the msd similarity matrix...\n"
          ],
          "name": "stdout"
        }
      ]
    }
  ]
}